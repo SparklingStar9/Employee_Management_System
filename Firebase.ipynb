{
 "cells": [
  {
   "cell_type": "code",
   "execution_count": 1,
   "id": "1ef951d0",
   "metadata": {},
   "outputs": [],
   "source": [
    "import firebase_admin\n",
    "from firebase_admin import credentials"
   ]
  },
  {
   "cell_type": "code",
   "execution_count": 2,
   "id": "4515d8fc",
   "metadata": {},
   "outputs": [],
   "source": [
    "cred = credentials.Certificate(\"Keys.json\")"
   ]
  },
  {
   "cell_type": "code",
   "execution_count": 3,
   "id": "05566675",
   "metadata": {},
   "outputs": [],
   "source": [
    "app = firebase_admin.initialize_app(cred,{''})# include your database url here"
   ]
  },
  {
   "cell_type": "code",
   "execution_count": 4,
   "id": "9ad6dde0",
   "metadata": {},
   "outputs": [],
   "source": [
    "#To retrieve data\n",
    "from firebase_admin import db"
   ]
  },
  {
   "cell_type": "code",
   "execution_count": 9,
   "id": "36368a95",
   "metadata": {},
   "outputs": [],
   "source": [
    "ref=db.reference(\"/\")"
   ]
  },
  {
   "cell_type": "code",
   "execution_count": 10,
   "id": "455713ed",
   "metadata": {},
   "outputs": [],
   "source": [
    "d = ref.get()"
   ]
  },
  {
   "cell_type": "code",
   "execution_count": 11,
   "id": "6c56cba1",
   "metadata": {
    "collapsed": true
   },
   "outputs": [
    {
     "name": "stdout",
     "output_type": "stream",
     "text": [
      "{'E001': {'Age': 30, 'Name': 'Amit', 'Salary': 36000}, 'E002': {'Age': 28, 'Name': 'Barkha', 'Salary': 20000}}\n"
     ]
    }
   ],
   "source": [
    "print(d)"
   ]
  },
  {
   "cell_type": "code",
   "execution_count": 12,
   "id": "e8fc2499",
   "metadata": {},
   "outputs": [],
   "source": [
    "ref = db.reference(\"/E001\")"
   ]
  },
  {
   "cell_type": "code",
   "execution_count": 13,
   "id": "4c0876eb",
   "metadata": {},
   "outputs": [],
   "source": [
    "b = ref.get()"
   ]
  },
  {
   "cell_type": "code",
   "execution_count": 18,
   "id": "62d914f9",
   "metadata": {},
   "outputs": [
    {
     "name": "stdout",
     "output_type": "stream",
     "text": [
      "Name: Amit\n",
      "Age: 30\n",
      "Salary: 36000\n"
     ]
    }
   ],
   "source": [
    "print(\"Name:\",b['Name'])\n",
    "print(\"Age:\",b['Age'])\n",
    "print(\"Salary:\",b['Salary'])"
   ]
  },
  {
   "cell_type": "code",
   "execution_count": 19,
   "id": "e8c6e102",
   "metadata": {},
   "outputs": [
    {
     "name": "stdout",
     "output_type": "stream",
     "text": [
      "Enter the employee idE001\n",
      "Employee ID: E001\n",
      "Name: Amit\n",
      "Age: 30\n",
      "Salary: 36000\n"
     ]
    }
   ],
   "source": [
    "emp_id = input(\"Enter the employee id\")\n",
    "b = \"/\"+emp_id\n",
    "ref = db.reference(b)\n",
    "b = ref.get()\n",
    "print(\"Employee ID:\",emp_id)\n",
    "print(\"Name:\",b['Name'])\n",
    "print(\"Age:\",b['Age'])\n",
    "print(\"Salary:\",b['Salary'])\n"
   ]
  },
  {
   "cell_type": "code",
   "execution_count": 20,
   "id": "b458f7fd",
   "metadata": {},
   "outputs": [
    {
     "name": "stdout",
     "output_type": "stream",
     "text": [
      "Enter Employee ID:E003\n",
      "Enter Employee name:Chirag\n",
      "Enter Employee Age:43\n",
      "Enter Employee salary23000\n"
     ]
    }
   ],
   "source": [
    "emp_id = input(\"Enter Employee ID:\")\n",
    "emp_name = input(\"Enter Employee name:\")\n",
    "emp_age = int(input(\"Enter Employee Age:\"))\n",
    "emp_salary = int(input(\"Enter Employee salary\"))\n",
    "d = {\"Name\":emp_name,\"Age\":emp_age,\"Salary\":emp_salary}\n",
    "b = \"/\"+emp_id\n",
    "ref = db.reference(b)\n",
    "ref.update(d)"
   ]
  },
  {
   "cell_type": "code",
   "execution_count": null,
   "id": "c74e5de9",
   "metadata": {},
   "outputs": [],
   "source": []
  }
 ],
 "metadata": {
  "kernelspec": {
   "display_name": "Python 3 (ipykernel)",
   "language": "python",
   "name": "python3"
  },
  "language_info": {
   "codemirror_mode": {
    "name": "ipython",
    "version": 3
   },
   "file_extension": ".py",
   "mimetype": "text/x-python",
   "name": "python",
   "nbconvert_exporter": "python",
   "pygments_lexer": "ipython3",
   "version": "3.11.4"
  }
 },
 "nbformat": 4,
 "nbformat_minor": 5
}
